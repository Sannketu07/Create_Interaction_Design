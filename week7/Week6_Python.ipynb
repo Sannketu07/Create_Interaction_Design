{
 "cells": [
  {
   "cell_type": "code",
   "execution_count": 29,
   "id": "ee819129-df3f-446f-869e-b0069d03b76c",
   "metadata": {},
   "outputs": [
    {
     "data": {
      "text/plain": [
       "123"
      ]
     },
     "execution_count": 29,
     "metadata": {},
     "output_type": "execute_result"
    }
   ],
   "source": [
    "123"
   ]
  },
  {
   "cell_type": "code",
   "execution_count": 30,
   "id": "ca205cbd-fc89-4026-b75e-b91e81306c6b",
   "metadata": {},
   "outputs": [
    {
     "data": {
      "text/plain": [
       "int"
      ]
     },
     "execution_count": 30,
     "metadata": {},
     "output_type": "execute_result"
    }
   ],
   "source": [
    "type(123)"
   ]
  },
  {
   "cell_type": "code",
   "execution_count": 31,
   "id": "40dd0df7-f28e-4ef1-b595-3c14886bfc6c",
   "metadata": {},
   "outputs": [
    {
     "data": {
      "text/plain": [
       "123.45"
      ]
     },
     "execution_count": 31,
     "metadata": {},
     "output_type": "execute_result"
    }
   ],
   "source": [
    "123.45"
   ]
  },
  {
   "cell_type": "code",
   "execution_count": 32,
   "id": "92434ce5-8c63-4edd-9718-ceac2b69c750",
   "metadata": {},
   "outputs": [
    {
     "data": {
      "text/plain": [
       "float"
      ]
     },
     "execution_count": 32,
     "metadata": {},
     "output_type": "execute_result"
    }
   ],
   "source": [
    "type(123.45)"
   ]
  },
  {
   "cell_type": "code",
   "execution_count": 33,
   "id": "137d945d-4cfa-4e9c-83a1-e2365eac0749",
   "metadata": {},
   "outputs": [
    {
     "data": {
      "text/plain": [
       "'123.45'"
      ]
     },
     "execution_count": 33,
     "metadata": {},
     "output_type": "execute_result"
    }
   ],
   "source": [
    "'123.45'"
   ]
  },
  {
   "cell_type": "code",
   "execution_count": 34,
   "id": "4f5a99a0-f058-4fa5-abbf-3d47f2f824c5",
   "metadata": {},
   "outputs": [
    {
     "data": {
      "text/plain": [
       "str"
      ]
     },
     "execution_count": 34,
     "metadata": {},
     "output_type": "execute_result"
    }
   ],
   "source": [
    "type('123.45')"
   ]
  },
  {
   "cell_type": "code",
   "execution_count": 35,
   "id": "6b040519-d74c-4a2e-9c5f-63fe7d40c6fd",
   "metadata": {},
   "outputs": [
    {
     "name": "stdout",
     "output_type": "stream",
     "text": [
      "<class 'bool'>\n"
     ]
    }
   ],
   "source": [
    "sign_up = True\n",
    "print(type(sign_up))"
   ]
  },
  {
   "cell_type": "code",
   "execution_count": 4,
   "id": "58142f16-23c2-441f-aeee-68365c3ebc07",
   "metadata": {},
   "outputs": [
    {
     "name": "stdout",
     "output_type": "stream",
     "text": [
      "123 123.45 123.45\n",
      "<class 'int'> <class 'float'> <class 'str'>\n"
     ]
    }
   ],
   "source": [
    "x = 123\n",
    "y = 123.45\n",
    "z = '123.45'\n",
    "print(x,y,z)\n",
    "print(type(x),type(y),type(z))"
   ]
  },
  {
   "cell_type": "code",
   "execution_count": 3,
   "id": "1c016509-90bb-4bdb-b97c-045bc9066944",
   "metadata": {},
   "outputs": [
    {
     "name": "stdout",
     "output_type": "stream",
     "text": [
      "<class 'str'>\n",
      "The result of 123+123.45 = 246.45\n"
     ]
    }
   ],
   "source": [
    "x = 123\n",
    "y = 123.45\n",
    "z = 'The result of ' + str(x) + '+' + str(y) + ' = ' + str(x+y)\n",
    "print(type(str(y)))\n",
    "print(z)"
   ]
  },
  {
   "cell_type": "code",
   "execution_count": 1,
   "id": "1adf6bf2-1164-4321-a7dd-6f36cd63d378",
   "metadata": {},
   "outputs": [
    {
     "name": "stdout",
     "output_type": "stream",
     "text": [
      "I am\n"
     ]
    }
   ],
   "source": [
    "z = 'I am from CUC.'\n",
    "print(z[0:4])"
   ]
  },
  {
   "cell_type": "code",
   "execution_count": 2,
   "id": "eedff40f-3b2d-4735-ab67-9afdca8bc325",
   "metadata": {},
   "outputs": [
    {
     "name": "stdout",
     "output_type": "stream",
     "text": [
      "I am f\n"
     ]
    }
   ],
   "source": [
    "print(z[0:6])"
   ]
  },
  {
   "cell_type": "code",
   "execution_count": 3,
   "id": "2dd8f91a-c410-4404-8cbd-06be6d084fd4",
   "metadata": {},
   "outputs": [
    {
     "name": "stdout",
     "output_type": "stream",
     "text": [
      "UC.\n"
     ]
    }
   ],
   "source": [
    "print(z[-3:])"
   ]
  },
  {
   "cell_type": "code",
   "execution_count": 4,
   "id": "eb897e21-62f9-40de-b8f2-13d62c16fefb",
   "metadata": {},
   "outputs": [
    {
     "name": "stdout",
     "output_type": "stream",
     "text": [
      "14\n",
      "I am from CUC\n",
      "C.\n",
      "CUC\n"
     ]
    }
   ],
   "source": [
    "print(len(z))\n",
    "print(z[0:13])\n",
    "print(z[-2:])\n",
    "print(z[10:13])"
   ]
  },
  {
   "cell_type": "code",
   "execution_count": 5,
   "id": "6beb744e-b7e4-451c-b2de-3313c92587c9",
   "metadata": {},
   "outputs": [
    {
     "name": "stdout",
     "output_type": "stream",
     "text": [
      "Princess Diana\n",
      "Princess Diana Princess Kate\n",
      "['Princess', 'Diana']\n"
     ]
    }
   ],
   "source": [
    "famous_person = 'Princess Diana'\n",
    "print(famous_person)\n",
    "famous_person2 = famous_person.replace('Diana','Kate')\n",
    "print(famous_person,famous_person2)\n",
    "print(famous_person.split())"
   ]
  },
  {
   "cell_type": "code",
   "execution_count": 6,
   "id": "19717a70-d231-4d86-9145-2d1632c73732",
   "metadata": {},
   "outputs": [
    {
     "name": "stdout",
     "output_type": "stream",
     "text": [
      "Princess Charles\n",
      "PRINCESS WILLIAM\n"
     ]
    },
    {
     "data": {
      "text/plain": [
       "<function print(*args, sep=' ', end='\\n', file=None, flush=False)>"
      ]
     },
     "execution_count": 6,
     "metadata": {},
     "output_type": "execute_result"
    }
   ],
   "source": [
    "name = 'Princess Charles'\n",
    "print(name)\n",
    "name = name.replace('Charles','William')\n",
    "name = name.upper()\n",
    "print(name)\n",
    "print"
   ]
  },
  {
   "cell_type": "code",
   "execution_count": 7,
   "id": "31200e1b-fb3c-417e-9f56-d5371217252e",
   "metadata": {},
   "outputs": [
    {
     "name": "stdout",
     "output_type": "stream",
     "text": [
      "3.14\n"
     ]
    }
   ],
   "source": [
    "x = 3.14\n",
    "y = str(x)\n",
    "z1 = float(y)\n",
    "print(z1)\n",
    "z2 = int(y[0:y.find('.')])"
   ]
  },
  {
   "cell_type": "code",
   "execution_count": 8,
   "id": "43ae1cbd-a390-44b7-b889-2821f07766af",
   "metadata": {},
   "outputs": [
    {
     "name": "stdout",
     "output_type": "stream",
     "text": [
      "3\n",
      "<class 'float'>\n",
      "<class 'int'>\n"
     ]
    }
   ],
   "source": [
    "print(z2)\n",
    "print(type(z1))\n",
    "print(type(z2))"
   ]
  },
  {
   "cell_type": "code",
   "execution_count": 1,
   "id": "5c93dda8-f97a-4613-bc66-043637f20d30",
   "metadata": {},
   "outputs": [
    {
     "name": "stdout",
     "output_type": "stream",
     "text": [
      "(1, 1.32, 2, 'CUC')\n",
      "[1, 1.32, 2, 'CUC']\n"
     ]
    }
   ],
   "source": [
    "tuple1 = (1,1.32,2,'CUC')\n",
    "print(tuple1)\n",
    "list1 = [1,1.32,2,'CUC']\n",
    "print(list1)"
   ]
  },
  {
   "cell_type": "code",
   "execution_count": 2,
   "id": "dcccb7c5-fef5-4a19-a925-87eafab6b195",
   "metadata": {},
   "outputs": [
    {
     "name": "stdout",
     "output_type": "stream",
     "text": [
      "[1, 2, 3, 4, 5]\n"
     ]
    }
   ],
   "source": [
    "myList = [1,2,3,5,4]\n",
    "print(sorted(myList))"
   ]
  },
  {
   "cell_type": "code",
   "execution_count": 9,
   "id": "e7e4b798-2fc0-40bd-b621-43d8ad6ce918",
   "metadata": {},
   "outputs": [
    {
     "name": "stdout",
     "output_type": "stream",
     "text": [
      "[100, 95, 88, 60, 65, 70]\n",
      "60\n",
      "[100, 95, 88, 60, 65, 70, 50]\n"
     ]
    }
   ],
   "source": [
    "score_list = [100,95,88,60,65,70]\n",
    "print(score_list)\n",
    "print(score_list[3])\n",
    "score_list.append(50)\n",
    "print(score_list)\n"
   ]
  },
  {
   "cell_type": "code",
   "execution_count": 10,
   "id": "1ac58d86-7c45-4c6d-a887-1f8e4add19a1",
   "metadata": {},
   "outputs": [
    {
     "name": "stdout",
     "output_type": "stream",
     "text": [
      "[60, 65, 70]\n",
      "[100, 95, 88, 60, 65, 70]\n"
     ]
    }
   ],
   "source": [
    "del(score_list[6])\n",
    "print(score_list[3:7])\n",
    "print(score_list)"
   ]
  },
  {
   "cell_type": "code",
   "execution_count": 11,
   "id": "07c8fc98-949c-4d97-81ab-149030677d2d",
   "metadata": {},
   "outputs": [
    {
     "name": "stdout",
     "output_type": "stream",
     "text": [
      "[100, 95, 88, 60, 65, 70, [1, 2, 3, 'I am from CUC', True]]\n"
     ]
    }
   ],
   "source": [
    "score_list.append([1,2,3,'I am from CUC',True])\n",
    "print(score_list)"
   ]
  },
  {
   "cell_type": "code",
   "execution_count": 12,
   "id": "39ded355-95d2-4f79-b327-06d17942574a",
   "metadata": {},
   "outputs": [
    {
     "name": "stdout",
     "output_type": "stream",
     "text": [
      "[100, 95, 88, 60, 65, 70, [1, 2, 3, 'I am from CUC', True], [11, 22, 33, [44, 55, 66]]]\n"
     ]
    }
   ],
   "source": [
    "second_list = [11,22,33]\n",
    "second_list.append([44,55,66])\n",
    "score_list.append(second_list)\n",
    "print(score_list)"
   ]
  },
  {
   "cell_type": "code",
   "execution_count": 13,
   "id": "d6a25954-4c57-4736-b7cc-013d25466339",
   "metadata": {},
   "outputs": [
    {
     "name": "stdout",
     "output_type": "stream",
     "text": [
      "[95, 88, 60, 65, 70, [1, 2, 3, 'I am from CUC', True], [11, 22, 33, [44, 55, 66]]]\n"
     ]
    }
   ],
   "source": [
    "score_list.remove(100)\n",
    "print(score_list)"
   ]
  },
  {
   "cell_type": "code",
   "execution_count": 14,
   "id": "4dc06bd1-2ac4-4af9-8e92-f212a4ecb413",
   "metadata": {},
   "outputs": [
    {
     "name": "stdout",
     "output_type": "stream",
     "text": [
      "{'Peter': 80, 'David': 90, 'Mary': 100}\n",
      "dict_keys(['Peter', 'David', 'Mary'])\n",
      "dict_values([80, 90, 100])\n",
      "90\n",
      "[{'Peter': 80, 'David': 90, 'Mary': 100}]\n"
     ]
    }
   ],
   "source": [
    "dict1 = {'Peter':80,'David':90,'Mary':100}\n",
    "print(dict1)\n",
    "print(dict1.keys())\n",
    "print(dict1.values())\n",
    "print(dict1['David'])\n",
    "score_list = []\n",
    "score_list.append(dict1)\n",
    "print(score_list)"
   ]
  },
  {
   "cell_type": "code",
   "execution_count": 15,
   "id": "bc5b4ada-4680-44f6-8a30-b89b6adb2bba",
   "metadata": {},
   "outputs": [
    {
     "name": "stdout",
     "output_type": "stream",
     "text": [
      "[{'Peter': 50, 'David': 60, 'Mary': 70}, {'Peter': 50, 'David': 70, 'Mary': 80}]\n"
     ]
    }
   ],
   "source": [
    "test1 = {'Peter':50,'David':60,'Mary':70}\n",
    "assignment1 = {'Peter':50,'David':70,'Mary':80}\n",
    "score_list = []\n",
    "score_list.append(test1)\n",
    "score_list.append(assignment1)\n",
    "print(score_list)"
   ]
  },
  {
   "cell_type": "code",
   "execution_count": 17,
   "id": "a3efaa27-9798-40ba-800f-10ba53b5c7b5",
   "metadata": {},
   "outputs": [
    {
     "name": "stdout",
     "output_type": "stream",
     "text": [
      "{1, 'Hello', (1, 2, 3)}\n",
      "<class 'set'>\n"
     ]
    }
   ],
   "source": [
    "my_set = {1,'Hello',(1,2,3)}\n",
    "print(my_set)\n",
    "print(type(my_set))"
   ]
  },
  {
   "cell_type": "code",
   "execution_count": 18,
   "id": "1ddfa54d-24d8-41a1-9c0d-772deb3873d3",
   "metadata": {},
   "outputs": [
    {
     "name": "stdout",
     "output_type": "stream",
     "text": [
      "{1, 2, 3, 4, 5}\n"
     ]
    }
   ],
   "source": [
    "my_set = {1,2,2,3,4,4,5}\n",
    "print(my_set)"
   ]
  },
  {
   "cell_type": "code",
   "execution_count": 19,
   "id": "6b58f739-2770-4f73-8ee6-d23a5dae0e3e",
   "metadata": {},
   "outputs": [
    {
     "name": "stdout",
     "output_type": "stream",
     "text": [
      "1\n",
      "2\n",
      "3\n",
      "4\n",
      "5\n",
      "6\n",
      "7\n",
      "8\n",
      "9\n"
     ]
    }
   ],
   "source": [
    "i = 1\n",
    "for i in range(1,10):\n",
    "    print(i)"
   ]
  },
  {
   "cell_type": "code",
   "execution_count": 21,
   "id": "8fadfba4-f024-43a6-81cb-16c23f621663",
   "metadata": {},
   "outputs": [
    {
     "name": "stdout",
     "output_type": "stream",
     "text": [
      "John make 1950.\n",
      "Mike make 3000.\n",
      "Mary make 3250.\n",
      "Jane make 4500.\n"
     ]
    }
   ],
   "source": [
    "hrs_list = [30,40,50,60]\n",
    "rate_list = [65,75,65,75]\n",
    "name_list = ['John','Mike','Mary','Jane']\n",
    "fee_list = []\n",
    "for number in range(len(name_list)):\n",
    "    hrs = hrs_list[number]\n",
    "    rate = rate_list[number]\n",
    "    fee = hrs*rate\n",
    "    fee_list.append(fee)\n",
    "    money_made = name_list[number] + ' make ' + str(fee) + '.'\n",
    "    print(money_made)"
   ]
  },
  {
   "cell_type": "code",
   "execution_count": 23,
   "id": "2028fb98-a528-4733-92d1-add910c99055",
   "metadata": {},
   "outputs": [
    {
     "name": "stdout",
     "output_type": "stream",
     "text": [
      "0 red\n",
      "1 green\n",
      "2 Blue is printed.\n",
      "3 orange\n",
      "4 black\n",
      "This is done.\n"
     ]
    }
   ],
   "source": [
    "my_list = ['red','green','blue','orange','black']\n",
    "index  = 0\n",
    "for i in my_list:\n",
    "    if i == 'blue':\n",
    "        print(index,'Blue is printed.')\n",
    "        index+=1\n",
    "    else:\n",
    "        print(index,my_list[index])\n",
    "        index = index + 1\n",
    "print('This is done.')"
   ]
  },
  {
   "cell_type": "code",
   "execution_count": 28,
   "id": "b9b01888-0b40-494c-a2c2-46a1896de195",
   "metadata": {},
   "outputs": [
    {
     "name": "stdout",
     "output_type": "stream",
     "text": [
      "   Product ID Product Name   Color  Units sold\n",
      "0           1      T_shirt    Blue         250\n",
      "1           2        Shirt   Green         300\n",
      "2           3        Jeans     Red         180\n",
      "3           4         Coat  Trench         200\n"
     ]
    }
   ],
   "source": [
    "import pandas as pd\n",
    "df1 = pd.DataFrame({\n",
    "    #Define dataframe as a dictionary object\n",
    "    'Product ID':[1,2,3,4],\n",
    "    #Add product name and color\n",
    "    'Product Name':['T_shirt','Shirt','Jeans','Coat'],\n",
    "    'Color':['Blue','Green','Red','Trench'],\n",
    "    'Units sold':[250,300,180,200]\n",
    "})\n",
    "print(df1)"
   ]
  }
 ],
 "metadata": {
  "kernelspec": {
   "display_name": "Python 3 (ipykernel)",
   "language": "python",
   "name": "python3"
  },
  "language_info": {
   "codemirror_mode": {
    "name": "ipython",
    "version": 3
   },
   "file_extension": ".py",
   "mimetype": "text/x-python",
   "name": "python",
   "nbconvert_exporter": "python",
   "pygments_lexer": "ipython3",
   "version": "3.11.7"
  }
 },
 "nbformat": 4,
 "nbformat_minor": 5
}
